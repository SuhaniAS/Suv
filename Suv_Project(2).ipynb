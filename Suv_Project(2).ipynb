{
 "cells": [
  {
   "cell_type": "markdown",
   "id": "57ee4eba",
   "metadata": {},
   "source": [
    "##### We have the Suv car purchased data. We have to predict based on the curent data, weather the new customer will purchase or not."
   ]
  },
  {
   "cell_type": "code",
   "execution_count": 1,
   "id": "d373bbd3",
   "metadata": {},
   "outputs": [
    {
     "data": {
      "text/html": [
       "<div>\n",
       "<style scoped>\n",
       "    .dataframe tbody tr th:only-of-type {\n",
       "        vertical-align: middle;\n",
       "    }\n",
       "\n",
       "    .dataframe tbody tr th {\n",
       "        vertical-align: top;\n",
       "    }\n",
       "\n",
       "    .dataframe thead th {\n",
       "        text-align: right;\n",
       "    }\n",
       "</style>\n",
       "<table border=\"1\" class=\"dataframe\">\n",
       "  <thead>\n",
       "    <tr style=\"text-align: right;\">\n",
       "      <th></th>\n",
       "      <th>User ID</th>\n",
       "      <th>Gender</th>\n",
       "      <th>Age</th>\n",
       "      <th>EstimatedSalary</th>\n",
       "      <th>Purchased</th>\n",
       "    </tr>\n",
       "  </thead>\n",
       "  <tbody>\n",
       "    <tr>\n",
       "      <th>0</th>\n",
       "      <td>15624510</td>\n",
       "      <td>Male</td>\n",
       "      <td>19</td>\n",
       "      <td>19000</td>\n",
       "      <td>0</td>\n",
       "    </tr>\n",
       "    <tr>\n",
       "      <th>1</th>\n",
       "      <td>15810944</td>\n",
       "      <td>Male</td>\n",
       "      <td>35</td>\n",
       "      <td>20000</td>\n",
       "      <td>0</td>\n",
       "    </tr>\n",
       "    <tr>\n",
       "      <th>2</th>\n",
       "      <td>15668575</td>\n",
       "      <td>Female</td>\n",
       "      <td>26</td>\n",
       "      <td>43000</td>\n",
       "      <td>0</td>\n",
       "    </tr>\n",
       "    <tr>\n",
       "      <th>3</th>\n",
       "      <td>15603246</td>\n",
       "      <td>Female</td>\n",
       "      <td>27</td>\n",
       "      <td>57000</td>\n",
       "      <td>0</td>\n",
       "    </tr>\n",
       "    <tr>\n",
       "      <th>4</th>\n",
       "      <td>15804002</td>\n",
       "      <td>Male</td>\n",
       "      <td>19</td>\n",
       "      <td>76000</td>\n",
       "      <td>0</td>\n",
       "    </tr>\n",
       "    <tr>\n",
       "      <th>...</th>\n",
       "      <td>...</td>\n",
       "      <td>...</td>\n",
       "      <td>...</td>\n",
       "      <td>...</td>\n",
       "      <td>...</td>\n",
       "    </tr>\n",
       "    <tr>\n",
       "      <th>395</th>\n",
       "      <td>15691863</td>\n",
       "      <td>Female</td>\n",
       "      <td>46</td>\n",
       "      <td>41000</td>\n",
       "      <td>1</td>\n",
       "    </tr>\n",
       "    <tr>\n",
       "      <th>396</th>\n",
       "      <td>15706071</td>\n",
       "      <td>Male</td>\n",
       "      <td>51</td>\n",
       "      <td>23000</td>\n",
       "      <td>1</td>\n",
       "    </tr>\n",
       "    <tr>\n",
       "      <th>397</th>\n",
       "      <td>15654296</td>\n",
       "      <td>Female</td>\n",
       "      <td>50</td>\n",
       "      <td>20000</td>\n",
       "      <td>1</td>\n",
       "    </tr>\n",
       "    <tr>\n",
       "      <th>398</th>\n",
       "      <td>15755018</td>\n",
       "      <td>Male</td>\n",
       "      <td>36</td>\n",
       "      <td>33000</td>\n",
       "      <td>0</td>\n",
       "    </tr>\n",
       "    <tr>\n",
       "      <th>399</th>\n",
       "      <td>15594041</td>\n",
       "      <td>Female</td>\n",
       "      <td>49</td>\n",
       "      <td>36000</td>\n",
       "      <td>1</td>\n",
       "    </tr>\n",
       "  </tbody>\n",
       "</table>\n",
       "<p>400 rows × 5 columns</p>\n",
       "</div>"
      ],
      "text/plain": [
       "      User ID  Gender  Age  EstimatedSalary  Purchased\n",
       "0    15624510    Male   19            19000          0\n",
       "1    15810944    Male   35            20000          0\n",
       "2    15668575  Female   26            43000          0\n",
       "3    15603246  Female   27            57000          0\n",
       "4    15804002    Male   19            76000          0\n",
       "..        ...     ...  ...              ...        ...\n",
       "395  15691863  Female   46            41000          1\n",
       "396  15706071    Male   51            23000          1\n",
       "397  15654296  Female   50            20000          1\n",
       "398  15755018    Male   36            33000          0\n",
       "399  15594041  Female   49            36000          1\n",
       "\n",
       "[400 rows x 5 columns]"
      ]
     },
     "execution_count": 1,
     "metadata": {},
     "output_type": "execute_result"
    }
   ],
   "source": [
    "#import data using pandas\n",
    "import pandas as pd\n",
    "data = pd.read_csv(r\"E:\\Suhani\\Notes\\Data Science\\Data\\Suv_data_csv.csv\")\n",
    "data= pd.DataFrame(data)\n",
    "data"
   ]
  },
  {
   "cell_type": "code",
   "execution_count": 2,
   "id": "f61aa2f8",
   "metadata": {},
   "outputs": [
    {
     "name": "stdout",
     "output_type": "stream",
     "text": [
      "<class 'pandas.core.frame.DataFrame'>\n",
      "RangeIndex: 400 entries, 0 to 399\n",
      "Data columns (total 5 columns):\n",
      " #   Column           Non-Null Count  Dtype \n",
      "---  ------           --------------  ----- \n",
      " 0   User ID          400 non-null    int64 \n",
      " 1   Gender           400 non-null    object\n",
      " 2   Age              400 non-null    int64 \n",
      " 3   EstimatedSalary  400 non-null    int64 \n",
      " 4   Purchased        400 non-null    int64 \n",
      "dtypes: int64(4), object(1)\n",
      "memory usage: 15.8+ KB\n",
      "About the data:  None\n"
     ]
    }
   ],
   "source": [
    "#About the data\n",
    "print(\"About the data: \",data.info())"
   ]
  },
  {
   "cell_type": "code",
   "execution_count": 3,
   "id": "556e51b8",
   "metadata": {},
   "outputs": [
    {
     "name": "stdout",
     "output_type": "stream",
     "text": [
      "Number of puchased and unpurchased:  0    257\n",
      "1    143\n",
      "Name: Purchased, dtype: int64\n"
     ]
    }
   ],
   "source": [
    "#if 0 = purchased and 1 = not Purchased, calculate the sum of each\n",
    "print(\"Number of puchased and unpurchased: \",data[\"Purchased\"].value_counts())"
   ]
  },
  {
   "cell_type": "code",
   "execution_count": 5,
   "id": "205ba684",
   "metadata": {},
   "outputs": [
    {
     "name": "stdout",
     "output_type": "stream",
     "text": [
      "Gender:       0\n",
      "0    1\n",
      "1    1\n",
      "2    0\n",
      "3    0\n",
      "4    1\n",
      "..  ..\n",
      "395  0\n",
      "396  1\n",
      "397  0\n",
      "398  1\n",
      "399  0\n",
      "\n",
      "[400 rows x 1 columns]\n"
     ]
    }
   ],
   "source": [
    "#Since gender is in string format transform it into numerical\n",
    "from sklearn.preprocessing import LabelEncoder\n",
    "le = LabelEncoder()\n",
    "new_gender = le.fit_transform(data[\"Gender\"])\n",
    "new_gender = pd.DataFrame(new_gender)\n",
    "print(\"Gender: \",new_gender)"
   ]
  },
  {
   "cell_type": "code",
   "execution_count": 6,
   "id": "38a316c3",
   "metadata": {},
   "outputs": [
    {
     "data": {
      "text/plain": [
       "Index(['User ID', 'Gender', 'Age', 'EstimatedSalary', 'Purchased'], dtype='object')"
      ]
     },
     "execution_count": 6,
     "metadata": {},
     "output_type": "execute_result"
    }
   ],
   "source": [
    "data.columns"
   ]
  },
  {
   "cell_type": "code",
   "execution_count": 8,
   "id": "c6580f6f",
   "metadata": {},
   "outputs": [
    {
     "name": "stdout",
     "output_type": "stream",
     "text": [
      "Index(['Age', 'EstimatedSalary', 'Gender'], dtype='object')\n",
      "     Age  EstimatedSalary  Gender\n",
      "0     19            19000       1\n",
      "1     35            20000       1\n",
      "2     26            43000       0\n",
      "3     27            57000       0\n",
      "4     19            76000       1\n",
      "..   ...              ...     ...\n",
      "395   46            41000       0\n",
      "396   51            23000       1\n",
      "397   50            20000       0\n",
      "398   36            33000       1\n",
      "399   49            36000       0\n",
      "\n",
      "[400 rows x 3 columns]\n",
      "0      0\n",
      "1      0\n",
      "2      0\n",
      "3      0\n",
      "4      0\n",
      "      ..\n",
      "395    1\n",
      "396    1\n",
      "397    1\n",
      "398    0\n",
      "399    1\n",
      "Name: Purchased, Length: 400, dtype: int64\n"
     ]
    }
   ],
   "source": [
    "#concatinating the columns and renaming the column\n",
    "x = pd.concat([data[[\"Age\",\"EstimatedSalary\"]],new_gender],join = 'outer',axis=1)\n",
    "x.columns=x.columns.astype(str)\n",
    "x.columns = [\"Age\", \"EstimatedSalary\", \"Gender\"]\n",
    "print(x.columns)\n",
    "#Convert x into dataframe\n",
    "x=pd.DataFrame(x)\n",
    "print(x)\n",
    "\n",
    "y = data[\"Purchased\"]\n",
    "print(y)"
   ]
  },
  {
   "cell_type": "code",
   "execution_count": 9,
   "id": "601167bd",
   "metadata": {},
   "outputs": [
    {
     "name": "stdout",
     "output_type": "stream",
     "text": [
      "[[-1.78179743 -1.49004624  1.02020406]\n",
      " [-0.25358736 -1.46068138  1.02020406]\n",
      " [-1.11320552 -0.78528968 -0.98019606]\n",
      " ...\n",
      " [ 1.17910958 -1.46068138 -0.98019606]\n",
      " [-0.15807423 -1.07893824  1.02020406]\n",
      " [ 1.08359645 -0.99084367 -0.98019606]]\n"
     ]
    }
   ],
   "source": [
    "#Standardise the data\n",
    "from sklearn.preprocessing import StandardScaler\n",
    "scaler=StandardScaler()\n",
    "std=scaler.fit_transform(x)\n",
    "print(std)"
   ]
  },
  {
   "cell_type": "code",
   "execution_count": 10,
   "id": "6f6a9f28",
   "metadata": {},
   "outputs": [],
   "source": [
    "#Split the data into train and test data\n",
    "from sklearn.model_selection import train_test_split\n",
    "x_train,x_test,y_train,y_test=train_test_split(std,y,test_size=0.25,random_state=1)"
   ]
  },
  {
   "cell_type": "code",
   "execution_count": 11,
   "id": "219acc58",
   "metadata": {},
   "outputs": [
    {
     "name": "stdout",
     "output_type": "stream",
     "text": [
      "Shape of x_train:  (300, 3)\n",
      "Shape of x_test:  (100, 3)\n",
      "Shape of y_train:  (300,)\n",
      "Shape of y_test:  (100,)\n"
     ]
    }
   ],
   "source": [
    "#shape of train and test data\n",
    "print(\"Shape of x_train: \",x_train.shape)\n",
    "print(\"Shape of x_test: \",x_test.shape)\n",
    "print(\"Shape of y_train: \",y_train.shape)\n",
    "print(\"Shape of y_test: \",y_test.shape)"
   ]
  },
  {
   "cell_type": "code",
   "execution_count": 12,
   "id": "f56cf519",
   "metadata": {},
   "outputs": [
    {
     "data": {
      "text/plain": [
       "GaussianNB()"
      ]
     },
     "execution_count": 12,
     "metadata": {},
     "output_type": "execute_result"
    }
   ],
   "source": [
    "#use logisticRegression model\n",
    "from sklearn.linear_model import LogisticRegression\n",
    "model = LogisticRegression()\n",
    "model.fit(x_train,y_train)\n",
    "\n",
    "#use Naive Bayes model\n",
    "from sklearn.naive_bayes import GaussianNB\n",
    "model1 = GaussianNB()\n",
    "model1.fit(x_train, y_train)"
   ]
  },
  {
   "cell_type": "code",
   "execution_count": 14,
   "id": "0d048b32",
   "metadata": {},
   "outputs": [],
   "source": [
    "#Accuracy of training data using Logistic regression\n",
    "from sklearn.metrics import accuracy_score\n",
    "y_train_predictiction = model.predict(x_train)\n",
    "training_data_accuracy = accuracy_score(y_train_predictiction,y_train)\n",
    "\n",
    "#Accuracy score of training data using Naive Bayes\n",
    "from sklearn.metrics import accuracy_score\n",
    "y_train_predictiction1 = model1.predict(x_train)\n",
    "training_data_accuracy1 = accuracy_score(y_train_predictiction1,y_train)"
   ]
  },
  {
   "cell_type": "code",
   "execution_count": 15,
   "id": "a5f28597",
   "metadata": {},
   "outputs": [
    {
     "name": "stdout",
     "output_type": "stream",
     "text": [
      "Accuracy of training data using Logistic regression:  0.8433333333333334\n",
      "Accuracy of training data using Naive Bayes:  0.88\n"
     ]
    }
   ],
   "source": [
    "print(\"Accuracy of training data using Logistic regression: \",training_data_accuracy)\n",
    "print(\"Accuracy of training data using Naive Bayes: \",training_data_accuracy1)"
   ]
  },
  {
   "cell_type": "code",
   "execution_count": 16,
   "id": "927898e8",
   "metadata": {},
   "outputs": [],
   "source": [
    "#Accuracy score of test data using logistic regression\n",
    "from sklearn.metrics import accuracy_score\n",
    "y_test_prediction = model.predict(x_test)\n",
    "testing_data_accuracy = accuracy_score(y_test_prediction,y_test)\n",
    "\n",
    "#Accuracy score of test data using Naive Bayes\n",
    "y_test_prediction1 = model1.predict(x_test)\n",
    "test_data_accuracy1 = accuracy_score(y_test_prediction1,y_test)"
   ]
  },
  {
   "cell_type": "code",
   "execution_count": 17,
   "id": "3e4606a2",
   "metadata": {},
   "outputs": [
    {
     "name": "stdout",
     "output_type": "stream",
     "text": [
      "Accuracy of Testing Data using Logistic regression:  0.82\n",
      "Accuracy of Testing Data using naive Bayes:  0.87\n"
     ]
    }
   ],
   "source": [
    "print(\"Accuracy of Testing Data using Logistic regression: \",testing_data_accuracy)\n",
    "print(\"Accuracy of Testing Data using naive Bayes: \",test_data_accuracy1)"
   ]
  },
  {
   "cell_type": "code",
   "execution_count": 17,
   "id": "3bfabd66",
   "metadata": {},
   "outputs": [
    {
     "name": "stdout",
     "output_type": "stream",
     "text": [
      "Based on the accuracy score we say that Naive Bayes Algorithm is better to use.\n"
     ]
    }
   ],
   "source": [
    "print(\"Based on the accuracy score we say that Naive Bayes Algorithm is better to use.\")"
   ]
  },
  {
   "cell_type": "code",
   "execution_count": 20,
   "id": "3221e0fa",
   "metadata": {},
   "outputs": [
    {
     "name": "stdout",
     "output_type": "stream",
     "text": [
      "[[-0.82666613  0.30121002  1.02020406]]\n",
      "[0]\n",
      "[0]\n",
      "The customer is going to purchase the car\n",
      "The customer is going to purchase the car\n"
     ]
    },
    {
     "name": "stderr",
     "output_type": "stream",
     "text": [
      "C:\\Users\\Lenovo\\anaconda3\\lib\\site-packages\\sklearn\\base.py:450: UserWarning: X does not have valid feature names, but StandardScaler was fitted with feature names\n",
      "  warnings.warn(\n"
     ]
    }
   ],
   "source": [
    "#Predicting for new data\n",
    "new_data = (29,80000,1)\n",
    "\n",
    "#Convert it into an array\n",
    "import numpy as np\n",
    "new_data_np_array = np.asarray(new_data)\n",
    "\n",
    "#Reshape the data\n",
    "new_data_reshape=new_data_np_array.reshape(1,-1)\n",
    "\n",
    "#std the data\n",
    "std_new_data = scaler.transform(new_data_reshape)\n",
    "print(std_new_data)\n",
    "\n",
    "#fit the new data to the Naive Bayes model\n",
    "prediction = model.predict(std_new_data)\n",
    "prediction1 = model1.predict(std_new_data)\n",
    "print(prediction)\n",
    "print(prediction1)\n",
    "\n",
    "#Conclude\n",
    "if prediction==0:\n",
    "    print(\"The customer is going to purchase the car\")\n",
    "else:\n",
    "    print(\"The customer is not going to purchase the car\")\n",
    "\n",
    "if prediction1==0:\n",
    "    print(\"The customer is going to purchase the car\")\n",
    "else:\n",
    "    print(\"The customer is not going to purchase the car\")\n"
   ]
  },
  {
   "cell_type": "code",
   "execution_count": null,
   "id": "42bb1888",
   "metadata": {},
   "outputs": [],
   "source": []
  }
 ],
 "metadata": {
  "kernelspec": {
   "display_name": "Python 3 (ipykernel)",
   "language": "python",
   "name": "python3"
  },
  "language_info": {
   "codemirror_mode": {
    "name": "ipython",
    "version": 3
   },
   "file_extension": ".py",
   "mimetype": "text/x-python",
   "name": "python",
   "nbconvert_exporter": "python",
   "pygments_lexer": "ipython3",
   "version": "3.9.13"
  }
 },
 "nbformat": 4,
 "nbformat_minor": 5
}
